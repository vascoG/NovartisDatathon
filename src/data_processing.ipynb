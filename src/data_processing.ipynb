{
 "cells": [
  {
   "cell_type": "code",
   "execution_count": 54,
   "metadata": {},
   "outputs": [],
   "source": [
    "import pandas as pd\n",
    "import numpy as np\n",
    "from pathlib import Path\n",
    "import matplotlib.pyplot as plt\n",
    "import seaborn as sns\n"
   ]
  },
  {
   "cell_type": "code",
   "execution_count": 55,
   "metadata": {},
   "outputs": [],
   "source": [
    "PATH = Path('../data')"
   ]
  },
  {
   "cell_type": "code",
   "execution_count": 56,
   "metadata": {},
   "outputs": [],
   "source": [
    "train_data = pd.read_parquet(PATH / 'train_data.parquet')\n",
    "\n",
    "submission_data = pd.read_parquet(PATH / 'submission_data.parquet')"
   ]
  },
  {
   "cell_type": "code",
   "execution_count": 57,
   "metadata": {},
   "outputs": [],
   "source": [
    "#novo ficheiro para passar categoricas/ordinal.\n",
    "#remover as colunas que não interessam (muito relacionadas)\n",
    "#tratar dos valores vazios/outliers\n",
    "#feature engineering\n",
    "\n",
    "\n",
    "#check the feature importance"
   ]
  },
  {
   "cell_type": "markdown",
   "metadata": {},
   "source": [
    "### Check null values\n",
    "\n"
   ]
  },
  {
   "cell_type": "code",
   "execution_count": 58,
   "metadata": {},
   "outputs": [
    {
     "data": {
      "text/plain": [
       "brand            0.000000\n",
       "phase            0.000000\n",
       "country          0.000000\n",
       "dayweek          0.000000\n",
       "month            0.000000\n",
       "wd_perc          0.000000\n",
       "ther_area        0.126736\n",
       "hospital_rate    0.179554\n",
       "n_nwd_bef        0.000000\n",
       "n_nwd_aft        0.000000\n",
       "n_weekday_0      0.000000\n",
       "n_weekday_1      0.000000\n",
       "n_weekday_2      0.000000\n",
       "n_weekday_3      0.000000\n",
       "n_weekday_4      0.000000\n",
       "date             0.000000\n",
       "wd               0.000000\n",
       "wd_left          0.000000\n",
       "monthly          0.000000\n",
       "main_channel     0.179554\n",
       "dtype: float64"
      ]
     },
     "execution_count": 58,
     "metadata": {},
     "output_type": "execute_result"
    }
   ],
   "source": [
    "train_data.isnull().sum()\n",
    "#give a look at the null values compared to the total number of rows\n",
    "train_data.isnull().sum() / train_data.shape[0]"
   ]
  },
  {
   "cell_type": "code",
   "execution_count": 59,
   "metadata": {},
   "outputs": [
    {
     "data": {
      "text/plain": [
       "country          0.000000\n",
       "brand            0.000000\n",
       "dayweek          0.000000\n",
       "month            0.000000\n",
       "wd_perc          0.000000\n",
       "ther_area        0.109807\n",
       "hospital_rate    0.109807\n",
       "n_nwd_bef        0.000000\n",
       "n_nwd_aft        0.000000\n",
       "n_weekday_0      0.000000\n",
       "n_weekday_1      0.000000\n",
       "n_weekday_2      0.000000\n",
       "n_weekday_3      0.000000\n",
       "n_weekday_4      0.000000\n",
       "date             0.000000\n",
       "wd               0.000000\n",
       "wd_left          0.000000\n",
       "main_channel     0.109807\n",
       "dtype: float64"
      ]
     },
     "execution_count": 59,
     "metadata": {},
     "output_type": "execute_result"
    }
   ],
   "source": [
    "submission_data.isnull().sum() / submission_data.shape[0]"
   ]
  },
  {
   "cell_type": "code",
   "execution_count": 60,
   "metadata": {},
   "outputs": [
    {
     "data": {
      "text/plain": [
       "brand            0.0\n",
       "phase            0.0\n",
       "country          0.0\n",
       "dayweek          0.0\n",
       "month            0.0\n",
       "wd_perc          0.0\n",
       "ther_area        0.0\n",
       "hospital_rate    0.0\n",
       "n_nwd_bef        0.0\n",
       "n_nwd_aft        0.0\n",
       "n_weekday_0      0.0\n",
       "n_weekday_1      0.0\n",
       "n_weekday_2      0.0\n",
       "n_weekday_3      0.0\n",
       "n_weekday_4      0.0\n",
       "date             0.0\n",
       "wd               0.0\n",
       "wd_left          0.0\n",
       "monthly          0.0\n",
       "main_channel     0.0\n",
       "dtype: float64"
      ]
     },
     "execution_count": 60,
     "metadata": {},
     "output_type": "execute_result"
    }
   ],
   "source": [
    "#drop the rows with hospital_rate null values\n",
    "train_data = train_data.dropna(subset=['hospital_rate'])\n",
    "train_data.isnull().sum() / train_data.shape[0]\n"
   ]
  },
  {
   "cell_type": "code",
   "execution_count": 61,
   "metadata": {},
   "outputs": [],
   "source": [
    "# from sklearn.feature_selection import SelectKBest\n",
    "# from sklearn.feature_selection import f_classif\n",
    "\n",
    "# def calculate_anova(df, features, target, k=\"all\"):\n",
    "#   # apply selectKBest to select top features\n",
    "#   best_features = SelectKBest(score_func=f_classif, k=k)\n",
    "#   df_cut = df[features]\n",
    "#   fit = best_features.fit(df_cut, df[target])\n",
    "#   dfscores = pd.DataFrame(fit.scores_)\n",
    "#   dfcolumns = pd.DataFrame(df_cut.columns)\n",
    "\n",
    "#   feature_score = pd.concat([dfcolumns, dfscores], axis=1)\n",
    "#   feature_score.columns = [\"Features\", \"Score\"]\n",
    "#   ret = feature_score.sort_values(by=\"Score\", ascending=False)\n",
    "#   return ret.head(k) if k != \"all\" else ret\n",
    "\n",
    "# anova_features = ['hospital_rate', 'monthly', 'n_weekday_0','n_weekday_1', 'n_weekday_2', 'n_weekday_3', 'n_weekday_4', 'n_nwd_bef', 'n_nwd_aft'];\n",
    "\n",
    "# calculate_anova(train_data, features=anova_features, target='phase')"
   ]
  },
  {
   "cell_type": "code",
   "execution_count": 62,
   "metadata": {},
   "outputs": [],
   "source": [
    "def process_data(df):\n",
    "\n",
    "    df['brand'] = df['brand'].astype('category')\n",
    "    df['country'] = df['country'].astype('category')\n",
    "\n",
    "    df['dayweek_sin'] = np.sin(df['dayweek']*2*np.pi/7)\n",
    "    df['dayweek_cos'] = np.cos(df['dayweek']*2*np.pi/7)\n",
    "    df= df.drop(columns=['dayweek'])\n",
    "\n",
    "    df['month_sin'] = np.sin(df['month']*2*np.pi/12)\n",
    "    df['month_cos'] = np.cos(df['month']*2*np.pi/12)\n",
    "    df= df.drop(columns=['month'])\n",
    "\n",
    "    df['wd'] = df['wd'].astype('int64')\n",
    "    df['n_nwd_bef'] = df['n_nwd_bef'].astype('int64')\n",
    "    df['n_nwd_aft'] = df['n_nwd_aft'].astype('int64')\n",
    "\n",
    "    df['ther_area'] = np.where(df['ther_area'].isnull(), 'unknown', df['ther_area'])\n",
    "    df['main_channel'] = np.where(df['main_channel'].isnull(), 'unknown', df['main_channel'])\n",
    "    df['hospital_rate'] = np.where(df['hospital_rate'].isnull(), df['hospital_rate'].median(), df['hospital_rate'])\n",
    "\n",
    "    # drop features\n",
    "    columns_to_drop = ['wd_left', 'wd_perc' ]\n",
    "\n",
    "    df = df.drop(columns=columns_to_drop)\n",
    "\n",
    "    return df\n",
    "\n",
    "new_train_data = process_data(train_data)\n",
    "new_submission_data = process_data(submission_data)"
   ]
  },
  {
   "cell_type": "code",
   "execution_count": 63,
   "metadata": {},
   "outputs": [
    {
     "name": "stdout",
     "output_type": "stream",
     "text": [
      "<class 'pandas.core.frame.DataFrame'>\n",
      "Int64Index: 2307496 entries, 5090 to 3524651\n",
      "Data columns (total 20 columns):\n",
      " #   Column         Dtype         \n",
      "---  ------         -----         \n",
      " 0   brand          category      \n",
      " 1   phase          float64       \n",
      " 2   country        category      \n",
      " 3   ther_area      object        \n",
      " 4   hospital_rate  float64       \n",
      " 5   n_nwd_bef      int64         \n",
      " 6   n_nwd_aft      int64         \n",
      " 7   n_weekday_0    int64         \n",
      " 8   n_weekday_1    int64         \n",
      " 9   n_weekday_2    int64         \n",
      " 10  n_weekday_3    int64         \n",
      " 11  n_weekday_4    int64         \n",
      " 12  date           datetime64[ns]\n",
      " 13  wd             int64         \n",
      " 14  monthly        float64       \n",
      " 15  main_channel   object        \n",
      " 16  dayweek_sin    float64       \n",
      " 17  dayweek_cos    float64       \n",
      " 18  month_sin      float64       \n",
      " 19  month_cos      float64       \n",
      "dtypes: category(2), datetime64[ns](1), float64(7), int64(8), object(2)\n",
      "memory usage: 341.1+ MB\n",
      "<class 'pandas.core.frame.DataFrame'>\n",
      "Int64Index: 180845 entries, 5356 to 11922\n",
      "Data columns (total 18 columns):\n",
      " #   Column         Non-Null Count   Dtype         \n",
      "---  ------         --------------   -----         \n",
      " 0   country        180845 non-null  category      \n",
      " 1   brand          180845 non-null  category      \n",
      " 2   ther_area      180845 non-null  object        \n",
      " 3   hospital_rate  180845 non-null  float64       \n",
      " 4   n_nwd_bef      180845 non-null  int64         \n",
      " 5   n_nwd_aft      180845 non-null  int64         \n",
      " 6   n_weekday_0    180845 non-null  int64         \n",
      " 7   n_weekday_1    180845 non-null  int64         \n",
      " 8   n_weekday_2    180845 non-null  int64         \n",
      " 9   n_weekday_3    180845 non-null  int64         \n",
      " 10  n_weekday_4    180845 non-null  int64         \n",
      " 11  date           180845 non-null  datetime64[ns]\n",
      " 12  wd             180845 non-null  int64         \n",
      " 13  main_channel   180845 non-null  object        \n",
      " 14  dayweek_sin    180845 non-null  float64       \n",
      " 15  dayweek_cos    180845 non-null  float64       \n",
      " 16  month_sin      180845 non-null  float64       \n",
      " 17  month_cos      180845 non-null  float64       \n",
      "dtypes: category(2), datetime64[ns](1), float64(5), int64(8), object(2)\n",
      "memory usage: 23.8+ MB\n"
     ]
    },
    {
     "data": {
      "text/plain": [
       "country          0\n",
       "brand            0\n",
       "ther_area        0\n",
       "hospital_rate    0\n",
       "n_nwd_bef        0\n",
       "n_nwd_aft        0\n",
       "n_weekday_0      0\n",
       "n_weekday_1      0\n",
       "n_weekday_2      0\n",
       "n_weekday_3      0\n",
       "n_weekday_4      0\n",
       "date             0\n",
       "wd               0\n",
       "main_channel     0\n",
       "dayweek_sin      0\n",
       "dayweek_cos      0\n",
       "month_sin        0\n",
       "month_cos        0\n",
       "dtype: int64"
      ]
     },
     "execution_count": 63,
     "metadata": {},
     "output_type": "execute_result"
    }
   ],
   "source": [
    "new_train_data.info()\n",
    "new_train_data.isna().sum()\n",
    "\n",
    "new_submission_data.info()\n",
    "new_submission_data.isna().sum()"
   ]
  },
  {
   "cell_type": "code",
   "execution_count": 64,
   "metadata": {},
   "outputs": [],
   "source": [
    "new_train_data.to_csv(PATH / 'new_train_data.csv', index=False)\n",
    "new_submission_data.to_csv(PATH / 'new_submission_data.csv', index=False)"
   ]
  }
 ],
 "metadata": {
  "kernelspec": {
   "display_name": "Python 3",
   "language": "python",
   "name": "python3"
  },
  "language_info": {
   "codemirror_mode": {
    "name": "ipython",
    "version": 3
   },
   "file_extension": ".py",
   "mimetype": "text/x-python",
   "name": "python",
   "nbconvert_exporter": "python",
   "pygments_lexer": "ipython3",
   "version": "3.10.11"
  }
 },
 "nbformat": 4,
 "nbformat_minor": 2
}
