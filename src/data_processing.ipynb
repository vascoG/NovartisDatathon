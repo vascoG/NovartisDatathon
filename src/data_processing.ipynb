{
 "cells": [
  {
   "cell_type": "code",
   "execution_count": 1,
   "metadata": {},
   "outputs": [],
   "source": [
    "import pandas as pd\n",
    "import numpy as np\n",
    "from pathlib import Path\n",
    "import matplotlib.pyplot as plt\n",
    "import seaborn as sns\n"
   ]
  },
  {
   "cell_type": "code",
   "execution_count": 2,
   "metadata": {},
   "outputs": [],
   "source": [
    "PATH_TRAIN = Path('../data/train_data.parquet')"
   ]
  },
  {
   "cell_type": "code",
   "execution_count": 3,
   "metadata": {},
   "outputs": [],
   "source": [
    "train_data = pd.read_parquet(PATH_TRAIN)"
   ]
  },
  {
   "cell_type": "code",
   "execution_count": 4,
   "metadata": {},
   "outputs": [],
   "source": [
    "#novo ficheiro para passar categoricas/ordinal.\n",
    "#remover as colunas que não interessam (muito relacionadas)\n",
    "#tratar dos valores vazios/outliers\n",
    "#feature engineering\n",
    "\n",
    "\n",
    "#check the feature importance"
   ]
  },
  {
   "cell_type": "markdown",
   "metadata": {},
   "source": [
    "### Drop columns\n"
   ]
  },
  {
   "cell_type": "code",
   "execution_count": null,
   "metadata": {},
   "outputs": [],
   "source": [
    "columns_to_drop = ['wd_left', 'wd_perc', ]\n",
    "\n"
   ]
  },
  {
   "cell_type": "markdown",
   "metadata": {},
   "source": [
    "### Check null values\n",
    "\n"
   ]
  },
  {
   "cell_type": "code",
   "execution_count": 5,
   "metadata": {},
   "outputs": [
    {
     "data": {
      "text/plain": [
       "brand            0.000000\n",
       "phase            0.000000\n",
       "country          0.000000\n",
       "dayweek          0.000000\n",
       "month            0.000000\n",
       "wd_perc          0.000000\n",
       "ther_area        0.126736\n",
       "hospital_rate    0.179554\n",
       "n_nwd_bef        0.000000\n",
       "n_nwd_aft        0.000000\n",
       "n_weekday_0      0.000000\n",
       "n_weekday_1      0.000000\n",
       "n_weekday_2      0.000000\n",
       "n_weekday_3      0.000000\n",
       "n_weekday_4      0.000000\n",
       "date             0.000000\n",
       "wd               0.000000\n",
       "wd_left          0.000000\n",
       "monthly          0.000000\n",
       "main_channel     0.179554\n",
       "dtype: float64"
      ]
     },
     "execution_count": 5,
     "metadata": {},
     "output_type": "execute_result"
    }
   ],
   "source": [
    "train_data.isnull().sum()\n",
    "#give a look at the null values compared to the total number of rows\n",
    "train_data.isnull().sum() / train_data.shape[0]"
   ]
  },
  {
   "cell_type": "code",
   "execution_count": 6,
   "metadata": {},
   "outputs": [
    {
     "data": {
      "text/plain": [
       "brand            0.0\n",
       "phase            0.0\n",
       "country          0.0\n",
       "dayweek          0.0\n",
       "month            0.0\n",
       "wd_perc          0.0\n",
       "ther_area        0.0\n",
       "hospital_rate    0.0\n",
       "n_nwd_bef        0.0\n",
       "n_nwd_aft        0.0\n",
       "n_weekday_0      0.0\n",
       "n_weekday_1      0.0\n",
       "n_weekday_2      0.0\n",
       "n_weekday_3      0.0\n",
       "n_weekday_4      0.0\n",
       "date             0.0\n",
       "wd               0.0\n",
       "wd_left          0.0\n",
       "monthly          0.0\n",
       "main_channel     0.0\n",
       "dtype: float64"
      ]
     },
     "execution_count": 6,
     "metadata": {},
     "output_type": "execute_result"
    }
   ],
   "source": [
    "#drop the rows with hospital_rate null values\n",
    "train_data = train_data.dropna(subset=['hospital_rate'])\n",
    "train_data.isnull().sum() / train_data.shape[0]\n"
   ]
  },
  {
   "cell_type": "code",
   "execution_count": 7,
   "metadata": {},
   "outputs": [
    {
     "ename": "KeyboardInterrupt",
     "evalue": "",
     "output_type": "error",
     "traceback": [
      "\u001b[0;31m---------------------------------------------------------------------------\u001b[0m",
      "\u001b[0;31mKeyboardInterrupt\u001b[0m                         Traceback (most recent call last)",
      "\u001b[1;32m/Users/marianamonteiro/Desktop/NovartisDatathon/src/data_processing.ipynb Cell 10\u001b[0m line \u001b[0;36m1\n\u001b[1;32m     <a href='vscode-notebook-cell:/Users/marianamonteiro/Desktop/NovartisDatathon/src/data_processing.ipynb#X12sZmlsZQ%3D%3D?line=14'>15</a>\u001b[0m   \u001b[39mreturn\u001b[39;00m ret\u001b[39m.\u001b[39mhead(k) \u001b[39mif\u001b[39;00m k \u001b[39m!=\u001b[39m \u001b[39m\"\u001b[39m\u001b[39mall\u001b[39m\u001b[39m\"\u001b[39m \u001b[39melse\u001b[39;00m ret\n\u001b[1;32m     <a href='vscode-notebook-cell:/Users/marianamonteiro/Desktop/NovartisDatathon/src/data_processing.ipynb#X12sZmlsZQ%3D%3D?line=16'>17</a>\u001b[0m anova_features \u001b[39m=\u001b[39m [\u001b[39m'\u001b[39m\u001b[39mhospital_rate\u001b[39m\u001b[39m'\u001b[39m, \u001b[39m'\u001b[39m\u001b[39mmonthly\u001b[39m\u001b[39m'\u001b[39m, \u001b[39m'\u001b[39m\u001b[39mn_weekday_0\u001b[39m\u001b[39m'\u001b[39m,\u001b[39m'\u001b[39m\u001b[39mn_weekday_1\u001b[39m\u001b[39m'\u001b[39m, \u001b[39m'\u001b[39m\u001b[39mn_weekday_2\u001b[39m\u001b[39m'\u001b[39m, \u001b[39m'\u001b[39m\u001b[39mn_weekday_3\u001b[39m\u001b[39m'\u001b[39m, \u001b[39m'\u001b[39m\u001b[39mn_weekday_4\u001b[39m\u001b[39m'\u001b[39m, \u001b[39m'\u001b[39m\u001b[39mn_nwd_bef\u001b[39m\u001b[39m'\u001b[39m, \u001b[39m'\u001b[39m\u001b[39mn_nwd_aft\u001b[39m\u001b[39m'\u001b[39m];\n\u001b[0;32m---> <a href='vscode-notebook-cell:/Users/marianamonteiro/Desktop/NovartisDatathon/src/data_processing.ipynb#X12sZmlsZQ%3D%3D?line=18'>19</a>\u001b[0m calculate_anova(train_data, features\u001b[39m=\u001b[39;49manova_features, target\u001b[39m=\u001b[39;49m\u001b[39m'\u001b[39;49m\u001b[39mphase\u001b[39;49m\u001b[39m'\u001b[39;49m)\n",
      "\u001b[1;32m/Users/marianamonteiro/Desktop/NovartisDatathon/src/data_processing.ipynb Cell 10\u001b[0m line \u001b[0;36m8\n\u001b[1;32m      <a href='vscode-notebook-cell:/Users/marianamonteiro/Desktop/NovartisDatathon/src/data_processing.ipynb#X12sZmlsZQ%3D%3D?line=5'>6</a>\u001b[0m best_features \u001b[39m=\u001b[39m SelectKBest(score_func\u001b[39m=\u001b[39mf_classif, k\u001b[39m=\u001b[39mk)\n\u001b[1;32m      <a href='vscode-notebook-cell:/Users/marianamonteiro/Desktop/NovartisDatathon/src/data_processing.ipynb#X12sZmlsZQ%3D%3D?line=6'>7</a>\u001b[0m df_cut \u001b[39m=\u001b[39m df[features]\n\u001b[0;32m----> <a href='vscode-notebook-cell:/Users/marianamonteiro/Desktop/NovartisDatathon/src/data_processing.ipynb#X12sZmlsZQ%3D%3D?line=7'>8</a>\u001b[0m fit \u001b[39m=\u001b[39m best_features\u001b[39m.\u001b[39;49mfit(df_cut, df[target])\n\u001b[1;32m      <a href='vscode-notebook-cell:/Users/marianamonteiro/Desktop/NovartisDatathon/src/data_processing.ipynb#X12sZmlsZQ%3D%3D?line=8'>9</a>\u001b[0m dfscores \u001b[39m=\u001b[39m pd\u001b[39m.\u001b[39mDataFrame(fit\u001b[39m.\u001b[39mscores_)\n\u001b[1;32m     <a href='vscode-notebook-cell:/Users/marianamonteiro/Desktop/NovartisDatathon/src/data_processing.ipynb#X12sZmlsZQ%3D%3D?line=9'>10</a>\u001b[0m dfcolumns \u001b[39m=\u001b[39m pd\u001b[39m.\u001b[39mDataFrame(df_cut\u001b[39m.\u001b[39mcolumns)\n",
      "File \u001b[0;32m/usr/local/lib/python3.11/site-packages/sklearn/base.py:1152\u001b[0m, in \u001b[0;36m_fit_context.<locals>.decorator.<locals>.wrapper\u001b[0;34m(estimator, *args, **kwargs)\u001b[0m\n\u001b[1;32m   1145\u001b[0m     estimator\u001b[39m.\u001b[39m_validate_params()\n\u001b[1;32m   1147\u001b[0m \u001b[39mwith\u001b[39;00m config_context(\n\u001b[1;32m   1148\u001b[0m     skip_parameter_validation\u001b[39m=\u001b[39m(\n\u001b[1;32m   1149\u001b[0m         prefer_skip_nested_validation \u001b[39mor\u001b[39;00m global_skip_validation\n\u001b[1;32m   1150\u001b[0m     )\n\u001b[1;32m   1151\u001b[0m ):\n\u001b[0;32m-> 1152\u001b[0m     \u001b[39mreturn\u001b[39;00m fit_method(estimator, \u001b[39m*\u001b[39;49margs, \u001b[39m*\u001b[39;49m\u001b[39m*\u001b[39;49mkwargs)\n",
      "File \u001b[0;32m/usr/local/lib/python3.11/site-packages/sklearn/feature_selection/_univariate_selection.py:503\u001b[0m, in \u001b[0;36m_BaseFilter.fit\u001b[0;34m(self, X, y)\u001b[0m\n\u001b[1;32m    498\u001b[0m X, y \u001b[39m=\u001b[39m \u001b[39mself\u001b[39m\u001b[39m.\u001b[39m_validate_data(\n\u001b[1;32m    499\u001b[0m     X, y, accept_sparse\u001b[39m=\u001b[39m[\u001b[39m\"\u001b[39m\u001b[39mcsr\u001b[39m\u001b[39m\"\u001b[39m, \u001b[39m\"\u001b[39m\u001b[39mcsc\u001b[39m\u001b[39m\"\u001b[39m], multi_output\u001b[39m=\u001b[39m\u001b[39mTrue\u001b[39;00m\n\u001b[1;32m    500\u001b[0m )\n\u001b[1;32m    502\u001b[0m \u001b[39mself\u001b[39m\u001b[39m.\u001b[39m_check_params(X, y)\n\u001b[0;32m--> 503\u001b[0m score_func_ret \u001b[39m=\u001b[39m \u001b[39mself\u001b[39;49m\u001b[39m.\u001b[39;49mscore_func(X, y)\n\u001b[1;32m    504\u001b[0m \u001b[39mif\u001b[39;00m \u001b[39misinstance\u001b[39m(score_func_ret, (\u001b[39mlist\u001b[39m, \u001b[39mtuple\u001b[39m)):\n\u001b[1;32m    505\u001b[0m     \u001b[39mself\u001b[39m\u001b[39m.\u001b[39mscores_, \u001b[39mself\u001b[39m\u001b[39m.\u001b[39mpvalues_ \u001b[39m=\u001b[39m score_func_ret\n",
      "File \u001b[0;32m/usr/local/lib/python3.11/site-packages/sklearn/utils/_param_validation.py:187\u001b[0m, in \u001b[0;36mvalidate_params.<locals>.decorator.<locals>.wrapper\u001b[0;34m(*args, **kwargs)\u001b[0m\n\u001b[1;32m    185\u001b[0m global_skip_validation \u001b[39m=\u001b[39m get_config()[\u001b[39m\"\u001b[39m\u001b[39mskip_parameter_validation\u001b[39m\u001b[39m\"\u001b[39m]\n\u001b[1;32m    186\u001b[0m \u001b[39mif\u001b[39;00m global_skip_validation:\n\u001b[0;32m--> 187\u001b[0m     \u001b[39mreturn\u001b[39;00m func(\u001b[39m*\u001b[39;49margs, \u001b[39m*\u001b[39;49m\u001b[39m*\u001b[39;49mkwargs)\n\u001b[1;32m    189\u001b[0m func_sig \u001b[39m=\u001b[39m signature(func)\n\u001b[1;32m    191\u001b[0m \u001b[39m# Map *args/**kwargs to the function signature\u001b[39;00m\n",
      "File \u001b[0;32m/usr/local/lib/python3.11/site-packages/sklearn/feature_selection/_univariate_selection.py:154\u001b[0m, in \u001b[0;36mf_classif\u001b[0;34m(X, y)\u001b[0m\n\u001b[1;32m    128\u001b[0m \u001b[39m\u001b[39m\u001b[39m\"\"\"Compute the ANOVA F-value for the provided sample.\u001b[39;00m\n\u001b[1;32m    129\u001b[0m \n\u001b[1;32m    130\u001b[0m \u001b[39mRead more in the :ref:`User Guide <univariate_feature_selection>`.\u001b[39;00m\n\u001b[0;32m   (...)\u001b[0m\n\u001b[1;32m    151\u001b[0m \u001b[39mf_regression : F-value between label/feature for regression tasks.\u001b[39;00m\n\u001b[1;32m    152\u001b[0m \u001b[39m\"\"\"\u001b[39;00m\n\u001b[1;32m    153\u001b[0m X, y \u001b[39m=\u001b[39m check_X_y(X, y, accept_sparse\u001b[39m=\u001b[39m[\u001b[39m\"\u001b[39m\u001b[39mcsr\u001b[39m\u001b[39m\"\u001b[39m, \u001b[39m\"\u001b[39m\u001b[39mcsc\u001b[39m\u001b[39m\"\u001b[39m, \u001b[39m\"\u001b[39m\u001b[39mcoo\u001b[39m\u001b[39m\"\u001b[39m])\n\u001b[0;32m--> 154\u001b[0m args \u001b[39m=\u001b[39m [X[safe_mask(X, y \u001b[39m==\u001b[39;49m k)] \u001b[39mfor\u001b[39;49;00m k \u001b[39min\u001b[39;49;00m np\u001b[39m.\u001b[39;49munique(y)]\n\u001b[1;32m    155\u001b[0m \u001b[39mreturn\u001b[39;00m f_oneway(\u001b[39m*\u001b[39margs)\n",
      "File \u001b[0;32m/usr/local/lib/python3.11/site-packages/sklearn/feature_selection/_univariate_selection.py:154\u001b[0m, in \u001b[0;36m<listcomp>\u001b[0;34m(.0)\u001b[0m\n\u001b[1;32m    128\u001b[0m \u001b[39m\u001b[39m\u001b[39m\"\"\"Compute the ANOVA F-value for the provided sample.\u001b[39;00m\n\u001b[1;32m    129\u001b[0m \n\u001b[1;32m    130\u001b[0m \u001b[39mRead more in the :ref:`User Guide <univariate_feature_selection>`.\u001b[39;00m\n\u001b[0;32m   (...)\u001b[0m\n\u001b[1;32m    151\u001b[0m \u001b[39mf_regression : F-value between label/feature for regression tasks.\u001b[39;00m\n\u001b[1;32m    152\u001b[0m \u001b[39m\"\"\"\u001b[39;00m\n\u001b[1;32m    153\u001b[0m X, y \u001b[39m=\u001b[39m check_X_y(X, y, accept_sparse\u001b[39m=\u001b[39m[\u001b[39m\"\u001b[39m\u001b[39mcsr\u001b[39m\u001b[39m\"\u001b[39m, \u001b[39m\"\u001b[39m\u001b[39mcsc\u001b[39m\u001b[39m\"\u001b[39m, \u001b[39m\"\u001b[39m\u001b[39mcoo\u001b[39m\u001b[39m\"\u001b[39m])\n\u001b[0;32m--> 154\u001b[0m args \u001b[39m=\u001b[39m [X[safe_mask(X, y \u001b[39m==\u001b[39m k)] \u001b[39mfor\u001b[39;00m k \u001b[39min\u001b[39;00m np\u001b[39m.\u001b[39munique(y)]\n\u001b[1;32m    155\u001b[0m \u001b[39mreturn\u001b[39;00m f_oneway(\u001b[39m*\u001b[39margs)\n",
      "\u001b[0;31mKeyboardInterrupt\u001b[0m: "
     ]
    }
   ],
   "source": [
    "from sklearn.feature_selection import SelectKBest\n",
    "from sklearn.feature_selection import f_classif\n",
    "\n",
    "def calculate_anova(df, features, target, k=\"all\"):\n",
    "  # apply selectKBest to select top features\n",
    "  best_features = SelectKBest(score_func=f_classif, k=k)\n",
    "  df_cut = df[features]\n",
    "  fit = best_features.fit(df_cut, df[target])\n",
    "  dfscores = pd.DataFrame(fit.scores_)\n",
    "  dfcolumns = pd.DataFrame(df_cut.columns)\n",
    "\n",
    "  feature_score = pd.concat([dfcolumns, dfscores], axis=1)\n",
    "  feature_score.columns = [\"Features\", \"Score\"]\n",
    "  ret = feature_score.sort_values(by=\"Score\", ascending=False)\n",
    "  return ret.head(k) if k != \"all\" else ret\n",
    "\n",
    "anova_features = ['hospital_rate', 'monthly', 'n_weekday_0','n_weekday_1', 'n_weekday_2', 'n_weekday_3', 'n_weekday_4', 'n_nwd_bef', 'n_nwd_aft'];\n",
    "\n",
    "calculate_anova(train_data, features=anova_features, target='phase')"
   ]
  }
 ],
 "metadata": {
  "kernelspec": {
   "display_name": "Python 3",
   "language": "python",
   "name": "python3"
  },
  "language_info": {
   "codemirror_mode": {
    "name": "ipython",
    "version": 3
   },
   "file_extension": ".py",
   "mimetype": "text/x-python",
   "name": "python",
   "nbconvert_exporter": "python",
   "pygments_lexer": "ipython3",
   "version": "3.11.6"
  }
 },
 "nbformat": 4,
 "nbformat_minor": 2
}
