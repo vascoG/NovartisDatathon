{
 "cells": [
  {
   "cell_type": "code",
   "execution_count": 2,
   "metadata": {},
   "outputs": [],
   "source": [
    "import pandas as pd\n",
    "import numpy as np\n",
    "from sklearn.ensemble import RandomForestRegressor\n",
    "from sklearn.model_selection import train_test_split\n",
    "from sklearn.preprocessing import OneHotEncoder\n",
    "from sklearn.compose import ColumnTransformer\n",
    "from sklearn.pipeline import Pipeline\n",
    "from pathlib import Path"
   ]
  },
  {
   "cell_type": "code",
   "execution_count": 3,
   "metadata": {},
   "outputs": [],
   "source": [
    "def train(df: pd.DataFrame) :\n",
    "    # regression model\n",
    "    rf = RandomForestRegressor(n_estimators=100, random_state=42)\n",
    "\n",
    "\n",
    "\n",
    "    # TODO: remove date and add year, quarter, maybe wd_quarter (wd within quarter)\n",
    "\n",
    "    categoric_col = ['ther_area', 'main_channel']\n",
    "\n",
    "    pre_processor = ColumnTransformer(transformers=[('cat', OneHotEncoder(handle_unknown='ignore'), categoric_col)], remainder='passthrough')\n",
    "\n",
    "    pipeline = Pipeline(steps=[('preprocessor', pre_processor), ('regressor', rf)])\n",
    "\n",
    "\n",
    "    # missing monthly\n",
    "\n",
    "    x_values = df[[ 'dayweek_sin','dayweek_cos', 'month_sin','month_cos', 'wd', 'ther_area','hospital_rate', 'main_channel', 'n_nwd_bef', 'n_nwd_aft']]\n",
    "\n",
    "    y_values = df['phase']\n",
    "\n",
    "    #x_train, x_test, y_train, y_test = train_test_split(x_values, y_values, test_size=0.0, random_state=42)\n",
    "\n",
    "    print(\"\\nstarted fitting\\n\")\n",
    "    rf = pipeline.fit(x_values, y_values)\n",
    "    print(\"\\nfinished fitting\\n\")\n",
    "\n",
    "    return rf\n",
    "\n"
   ]
  },
  {
   "cell_type": "code",
   "execution_count": 4,
   "metadata": {},
   "outputs": [],
   "source": [
    "PATH = Path(\"../data\")\n",
    "#train_data = pd.read_parquet(PATH / \"train_data.parquet\")\n",
    "train_data = pd.read_csv(PATH / \"new_train_data.csv\")"
   ]
  },
  {
   "cell_type": "code",
   "execution_count": 5,
   "metadata": {},
   "outputs": [
    {
     "name": "stdout",
     "output_type": "stream",
     "text": [
      "\n",
      "started fitting\n",
      "\n"
     ]
    }
   ],
   "source": [
    "model = train(train_data)\n"
   ]
  },
  {
   "cell_type": "code",
   "execution_count": null,
   "metadata": {},
   "outputs": [],
   "source": [
    "#submission_data = pd.read_parquet(PATH / \"submission_data.parquet\")\n",
    "submission_data = pd.read_csv(PATH / \"new_submission_data.csv\")\n",
    "\n",
    "submission = pd.read_csv(PATH / \"submission_template.csv\")\n",
    "\n",
    "# Fill in 'prediction' values of submission\n",
    "\n",
    "\n"
   ]
  },
  {
   "cell_type": "code",
   "execution_count": null,
   "metadata": {},
   "outputs": [],
   "source": [
    "\n",
    "submission_data = submission_data[[['country','brand','phase','date','dayweek_sin','dayweek_cos', 'month_sin','month_cos', 'wd', 'ther_area','hospital_rate', 'main_channel', 'monthly', 'n_nwd_bef', 'n_nwd_aft']]]\n",
    "\n",
    "submission['prediction'] = model.predict(submission_data)\n",
    "\n",
    "# ...\n",
    "\n",
    "# Save submission\n",
    "SAVE_PATH = Path(\"../data\")\n",
    "submission.to_csv(SAVE_PATH / \"submissionv2.csv\", index=False)"
   ]
  }
 ],
 "metadata": {
  "kernelspec": {
   "display_name": "Python 3",
   "language": "python",
   "name": "python3"
  },
  "language_info": {
   "codemirror_mode": {
    "name": "ipython",
    "version": 3
   },
   "file_extension": ".py",
   "mimetype": "text/x-python",
   "name": "python",
   "nbconvert_exporter": "python",
   "pygments_lexer": "ipython3",
   "version": "3.10.11"
  }
 },
 "nbformat": 4,
 "nbformat_minor": 2
}
